{
 "cells": [
  {
   "cell_type": "markdown",
   "metadata": {},
   "source": []
  },
  {
   "cell_type": "markdown",
   "metadata": {},
   "source": [
    "# Setup"
   ]
  },
  {
   "cell_type": "markdown",
   "metadata": {},
   "source": [
    "## Imports"
   ]
  },
  {
   "cell_type": "code",
   "execution_count": 1,
   "metadata": {},
   "outputs": [],
   "source": [
    "import requests\n",
    "import json\n",
    "import random\n",
    "import os\n"
   ]
  },
  {
   "cell_type": "markdown",
   "metadata": {},
   "source": [
    "## Constants"
   ]
  },
  {
   "cell_type": "code",
   "execution_count": 2,
   "metadata": {},
   "outputs": [],
   "source": [
    "API_KEY=os.environ['FoodDataCentralAPIKey'] # This key has to be aquired from https://www.nal.usda.gov/\n",
    "FOOD_NAMES_IT_ENG_MAP = [\n",
    "    {\"name\": \"patate/pure\", \"name_eng\": \"mashed potatoes\"},\n",
    "    {\"name\": \"pasta_mare_e_monti\", \"name_eng\": \"pasta with seafood and mushrooms\"},\n",
    "    {\"name\": \"pizza\", \"name_eng\": \"pizza\"},\n",
    "    {\"name\": \"budino\", \"name_eng\": \"pudding\"},\n",
    "    {\"name\": \"mandarini\", \"name_eng\": \"mandarins\"},\n",
    "    {\"name\": \"pasta_zafferano_e_piselli\", \"name_eng\": \"pasta with saffron and peas\"},\n",
    "    {\"name\": \"arrosto\", \"name_eng\": \"roast\"},\n",
    "    {\"name\": \"yogurt\", \"name_eng\": \"yogurt\"},\n",
    "    {\"name\": \"pane\", \"name_eng\": \"bread\"},\n",
    "    {\n",
    "        \"name\": \"torta_salata_spinaci_e_ricotta\",\n",
    "        \"name_eng\": \"savory pie with spinach and ricotta cheese\",\n",
    "    },\n",
    "    {\"name\": \"rosbeef\", \"name_eng\": \"roast beef\"},\n",
    "    {\"name\": \"pizzoccheri\", \"name_eng\": \"buckwheat pasta with cheese and vegetables\"},\n",
    "    {\"name\": \"arancia\", \"name_eng\": \"orange\"},\n",
    "    {\"name\": \"carote\", \"name_eng\": \"carrots\"},\n",
    "    {\"name\": \"fagiolini\", \"name_eng\": \"green beans\"},\n",
    "    {\"name\": \"pesce_(filetto)\", \"name_eng\": \"fish fillet\"},\n",
    "    {\"name\": \"spinaci\", \"name_eng\": \"spinach\"},\n",
    "    {\"name\": \"torta_cioccolato_e_pere\", \"name_eng\": \"chocolate and pear cake\"},\n",
    "    {\"name\": \"cotoletta\", \"name_eng\": \"cutlet\"},\n",
    "    {\"name\": \"patatine_fritte\", \"name_eng\": \"french fries\"},\n",
    "    {\"name\": \"scaloppine\", \"name_eng\": \"scaloppine\"},\n",
    "    {\"name\": \"insalata_2_(uova mais)\", \"name_eng\": \"salad 2 (eggs corn)\"},\n",
    "    {\"name\": \"insalata_mista\", \"name_eng\": \"mixed salad\"},\n",
    "    {\"name\": \"pasta_sugo\", \"name_eng\": \"pasta with sauce\"},\n",
    "    {\"name\": \"riso_sugo\", \"name_eng\": \"rice with sauce\"},\n",
    "    {\"name\": \"minestra\", \"name_eng\": \"soup\"},\n",
    "    {\"name\": \"pasta_bianco\", \"name_eng\": \"pasta with butter or cheese\"},\n",
    "    {\"name\": \"mele\", \"name_eng\": \"apples\"},\n",
    "    {\"name\": \"riso_bianco\", \"name_eng\": \"white rice\"},\n",
    "    {\"name\": \"pere\", \"name_eng\": \"pears\"},\n",
    "    {\"name\": \"pasta_tonno_e_piselli\", \"name_eng\": \"pasta with tuna and peas\"},\n",
    "    {\"name\": \"medaglioni_di_carne\", \"name_eng\": \"meat medallions\"},\n",
    "    {\n",
    "        \"name\": \"pasta_ricotta_e_salsiccia\",\n",
    "        \"name_eng\": \"pasta with ricotta cheese and sausage\",\n",
    "    },\n",
    "    {\"name\": \"piselli\", \"name_eng\": \"peas\"},\n",
    "    {\"name\": \"merluzzo_alle_olive\", \"name_eng\": \"cod with olives\"},\n",
    "    {\"name\": \"finocchi_in_umido\", \"name_eng\": \"braised fennel\"},\n",
    "    {\"name\": \"torta_ananas\", \"name_eng\": \"pineapple cake\"},\n",
    "    {\n",
    "        \"name\": \"passato_alla_piemontese\",\n",
    "        \"name_eng\": \"pureed soup with vegetables and cheese\",\n",
    "    },\n",
    "    {\"name\": \"pasta_sugo_vegetariano\", \"name_eng\": \"pasta with vegetarian sauce\"},\n",
    "    {\"name\": \"pasta_tonno\", \"name_eng\": \"pasta with tuna\"},\n",
    "    {\"name\": \"cibo_bianco_non_identificato\", \"name_eng\": \"unidentified white food\"},\n",
    "    {\"name\": \"guazzetto_di_calamari\", \"name_eng\": \"stewed squid\"},\n",
    "    {\"name\": \"stinco_di_maiale\", \"name_eng\": \"pork shank\"},\n",
    "    {\"name\": \"strudel\", \"name_eng\": \"strudel\"},\n",
    "    {\"name\": \"zucchine_impanate\", \"name_eng\": \"breaded zucchini\"},\n",
    "    {\"name\": \"zucchine_umido\", \"name_eng\": \"stewed zucchini\"},\n",
    "    {\"name\": \"roastbeef\", \"name_eng\": \"roast beef\"},\n",
    "    {\"name\": \"crema_zucca_e_fagioli\", \"name_eng\": \"cream of pumpkin and beans\"},\n",
    "    {\"name\": \"lasagna_alla_bolognese\", \"name_eng\": \"lasagna with bolognese sauce\"},\n",
    "    {\"name\": \"finocchi_gratinati\", \"name_eng\": \"gratin fennel\"},\n",
    "    {\"name\": \"pasta_pancetta_e_zucchine\", \"name_eng\": \"pasta with bacon and zucchini\"},\n",
    "    {\"name\": \"rucola\", \"name_eng\": \"arugula\"},\n",
    "    {\"name\": \"orecchiette_(ragu)\", \"name_eng\": \"orecchiette (meat sauce)\"},\n",
    "    {\"name\": \"arrosto_di_vitello\", \"name_eng\": \"veal roast\"},\n",
    "    {\"name\": \"pasta_e_ceci\", \"name_eng\": \"pasta and chickpeas\"},\n",
    "    {\"name\": \"torta_crema\", \"name_eng\": \"cream cake\"},\n",
    "    {\n",
    "        \"name\": \"torta_salata_(alla_valdostana)\",\n",
    "        \"name_eng\": \"savory pie (with cheese and ham)\",\n",
    "    },\n",
    "    {\"name\": \"pasta_cozze_e_vongole\", \"name_eng\": \"pasta with mussels and clams\"},\n",
    "    {\"name\": \"banane\", \"name_eng\": \"bananas\"},\n",
    "    {\n",
    "        \"name\": \"pasta_pesto_besciamella_e_cornetti\",\n",
    "        \"name_eng\": \"pasta with pesto, bechamel and croissants\",\n",
    "    },\n",
    "    {\"name\": \"pasta_e_fagioli\", \"name_eng\": \"pasta and beans\"},\n",
    "    {\n",
    "        \"name\": \"torta_salata_rustica_(zucchine)\",\n",
    "        \"name_eng\": \"rustic savory pie (with zucchini)\",\n",
    "    },\n",
    "    {\n",
    "        \"name\": \"bruscitt\",\n",
    "        \"name_eng\": \"a typical dish of Lombardy made with minced beef and lard\",\n",
    "    },\n",
    "    {\"name\": \"focaccia_bianca\", \"name_eng\": \"white focaccia\"},\n",
    "    {\"name\": \"pesce_2_(filetto)\", \"name_eng\": \"fish fillet\"},\n",
    "    {\"name\": \"torta_crema_2\", \"name_eng\": \"cream cake\"},\n",
    "    {\"name\": \"pasta_sugo_pesce\", \"name_eng\": \"pasta with fish sauce\"},\n",
    "    {\"name\": \"polpette_di_carne\", \"name_eng\": \"meatballs\"},\n",
    "    {\"name\": \"salmone_(da_menu_sembra_spada_in_realta)\", \"name_eng\": \"salmon\"},\n",
    "    {\"name\": \"cavolfiore\", \"name_eng\": \"cauliflower\"},\n",
    "    {\"name\": \"torta_salata_3\", \"name_eng\": \"savory pie\"},\n",
    "    {\"name\": \"minestra_lombarda\", \"name_eng\": \"Lombard soup\"},\n",
    "    {\"name\": \"patate/pure_prosciutto\", \"name_eng\": \"mashed potatoes ham\"},\n",
    "]\n",
    "\n",
    "NUTRIENTS_ENG_GER_MAP = {\n",
    "    \"Energy\": \"energie\",\n",
    "    \"Total lipid (fat)\": \"fett\",\n",
    "    \"Fatty acids, total saturated\": \"gesaettigte_fettsaeuren\",\n",
    "    \"Carbohydrate, by difference\": \"kohlenhydrate\",\n",
    "    \"Total Sugars\": \"zucker\",\n",
    "    \"Protein\": \"eiweis\",\n",
    "    \"Sodium, Na\": \"salz\",\n",
    "    \"Fiber, total dietary\":\"ballaststoffe\"\n",
    "}\n"
   ]
  },
  {
   "cell_type": "markdown",
   "metadata": {},
   "source": [
    "# Functions"
   ]
  },
  {
   "cell_type": "markdown",
   "metadata": {},
   "source": [
    "## Get Data From FoodData Central"
   ]
  },
  {
   "cell_type": "code",
   "execution_count": 3,
   "metadata": {},
   "outputs": [],
   "source": [
    "def format_nutrients(foods):\n",
    "    nutrients = {}\n",
    "    nutrients_unformatted = foods[0][\"foodNutrients\"]\n",
    "    for eng_name, de_name in NUTRIENTS_ENG_GER_MAP.items():\n",
    "        for nutrient_unformatted in nutrients_unformatted:\n",
    "            if eng_name == nutrient_unformatted[\"nutrientName\"]:\n",
    "                nutrients[de_name] = nutrient_unformatted[\"value\"]\n",
    "                break\n",
    "    return nutrients\n",
    "\n",
    "\n",
    "def get_nutrients(food_name):\n",
    "    params = {\"query\": food_name, \"api_key\": API_KEY}\n",
    "    response = requests.get(\n",
    "        \"https://api.nal.usda.gov/fdc/v1/foods/search\", params=params\n",
    "    )\n",
    "    try:\n",
    "        foods = response.json()[\"foods\"]\n",
    "        nutrients = format_nutrients(foods)\n",
    "        convert_mg_to_gram = lambda milligram: milligram / 1000\n",
    "        nutrients[\"salz\"] = convert_mg_to_gram(nutrients[\"salz\"])\n",
    "        return nutrients\n",
    "    except:\n",
    "        return {\n",
    "            \"energie\": 0,\n",
    "            \"fett\": 0,\n",
    "            \"gesaettigte_fettsaeuren\": 0,\n",
    "            \"kohlenhydrate\": 0,\n",
    "            \"zucker\": 0,\n",
    "            \"eiweis\": 0,\n",
    "            \"salz\": 0,\n",
    "            \"ballaststoffe\":0,\n",
    "        }\n"
   ]
  },
  {
   "cell_type": "markdown",
   "metadata": {},
   "source": [
    "## Add random price"
   ]
  },
  {
   "cell_type": "code",
   "execution_count": null,
   "metadata": {},
   "outputs": [],
   "source": [
    "def add_random_price(food):\n",
    "    food[\"preis\"]=random.randint(10,150)/10\n"
   ]
  },
  {
   "cell_type": "markdown",
   "metadata": {},
   "source": [
    "# Get data"
   ]
  },
  {
   "cell_type": "code",
   "execution_count": 4,
   "metadata": {},
   "outputs": [],
   "source": [
    "foods =  FOOD_NAMES_IT_ENG_MAP.copy()\n",
    "for food in foods:\n",
    "    food[\"nutrients\"] = get_nutrients(food[\"name_eng\"])\n",
    "_ = [add_random_price(food) for food in foods]"
   ]
  },
  {
   "cell_type": "markdown",
   "metadata": {},
   "source": [
    "# Write/Load"
   ]
  },
  {
   "cell_type": "code",
   "execution_count": null,
   "metadata": {},
   "outputs": [],
   "source": [
    "with open(\"food_details.json\",\"w\", encoding=\"utf-8\") as f:\n",
    "    f.write(json.dumps(FOOD_NAMES_IT_ENG_MAP, indent=2, ensure_ascii=False))"
   ]
  },
  {
   "cell_type": "code",
   "execution_count": null,
   "metadata": {},
   "outputs": [],
   "source": [
    "with open(\"food_details.json\",\"r\", encoding=\"utf-8\") as f:\n",
    "    FOOD_NAMES_IT_ENG_MAP=json.loads(f.read())"
   ]
  },
  {
   "cell_type": "code",
   "execution_count": null,
   "metadata": {},
   "outputs": [],
   "source": [
    "FOOD_NAMES_IT_ENG_MAP[24]"
   ]
  },
  {
   "cell_type": "markdown",
   "metadata": {},
   "source": [
    "# Insert into Databank"
   ]
  },
  {
   "cell_type": "code",
   "execution_count": null,
   "metadata": {},
   "outputs": [],
   "source": [
    "from nutri_score_calculator import NutriScoreCategory\n",
    "# Define the URL\n",
    "url = \"http://127.0.0.1:8000/food_db\"\n",
    "\n",
    "headers = {\"Content-Type\": \"application/json\"}\n",
    "for i, food in enumerate(FOOD_NAMES_IT_ENG_MAP):\n",
    "    print(f\"{i}: {food['name']}\")\n",
    "    nuts = food[\"nutrients\"]\n",
    "    payload = {\n",
    "        \"name\": food[\"name\"],\n",
    "        \"kategorie\": \"ALLGEMEINER_FALL\",\n",
    "        \"energie\": nuts.get(\"energie\", 0.0),\n",
    "        \"fett\": nuts.get(\"fett\", 0.0),\n",
    "        \"gesaettigte_fettsaeuren\": nuts.get(\"gesaettigte_fettsaeuren\", 0.0),\n",
    "        \"kohlenhydrate\": nuts.get(\"kohlenhydrate\", 0.0),\n",
    "        \"zucker\": nuts.get(\"zucker\", 0.0),\n",
    "        \"eiweis\": nuts.get(\"eiweis\", 0.0),\n",
    "        \"salz\": nuts.get(\"salz\", 0.0),\n",
    "        \"ballaststoffe\":nuts.get(\"ballaststoffe\",0.0),\n",
    "        \"obgenu\":0,\n",
    "        \"preis\": food[\"preis\"],\n",
    "    }\n",
    "    response = requests.post(url, data=payload)\n"
   ]
  }
 ],
 "metadata": {
  "kernelspec": {
   "display_name": "uni",
   "language": "python",
   "name": "python3"
  },
  "language_info": {
   "codemirror_mode": {
    "name": "ipython",
    "version": 3
   },
   "file_extension": ".py",
   "mimetype": "text/x-python",
   "name": "python",
   "nbconvert_exporter": "python",
   "pygments_lexer": "ipython3",
   "version": "3.10.9"
  },
  "orig_nbformat": 4
 },
 "nbformat": 4,
 "nbformat_minor": 2
}
