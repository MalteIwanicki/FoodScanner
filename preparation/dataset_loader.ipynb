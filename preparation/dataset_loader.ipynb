{
 "cells": [
  {
   "cell_type": "markdown",
   "metadata": {},
   "source": [
    "# Loads Dataset"
   ]
  },
  {
   "cell_type": "code",
   "execution_count": 16,
   "metadata": {},
   "outputs": [],
   "source": [
    "import os\n",
    "import urllib.request\n",
    "import zipfile\n",
    "from tqdm import tqdm\n",
    "\n",
    "IMAGES_URL =\"http://www.ivl.disco.unimib.it/download/http://www.ivl.disco.unimib.it/minisites/UNIMIB2016/UNIMIB2016-images.zip\"\n",
    "LABELS_URL =\"http://www.ivl.disco.unimib.it/download/http://www.ivl.disco.unimib.it/minisites/UNIMIB2016/UNIMIB2016-annotations.zip\"\n",
    "SPLIT_URL = \"http://www.ivl.disco.unimib.it/download/split.zip\"\n",
    "OUTPUT_DIR = \"UNIMIB2016\"\n"
   ]
  },
  {
   "cell_type": "code",
   "execution_count": 17,
   "metadata": {},
   "outputs": [],
   "source": [
    "\n",
    "def create_dir_if_it_doesnt_exist(output_dir):\n",
    "    if not os.path.exists(output_dir):\n",
    "        os.makedirs(output_dir)\n",
    "create_dir_if_it_doesnt_exist(OUTPUT_DIR)\n",
    "\n",
    "# This may take a few minutes\n",
    "def download_and_extract(url, output_dir):\n",
    "    filename = os.path.join(output_dir, os.path.basename(url))\n",
    "    urllib.request.urlretrieve(url, filename)\n",
    "    with zipfile.ZipFile(filename, 'r') as zip_ref:\n",
    "        zip_ref.extractall(output_dir)\n",
    "    os.remove(filename)\n",
    "\n",
    "download_and_extract(IMAGES_URL, OUTPUT_DIR)\n",
    "download_and_extract(LABELS_URL, OUTPUT_DIR)\n",
    "download_and_extract(SPLIT_URL, OUTPUT_DIR)"
   ]
  },
  {
   "cell_type": "code",
   "execution_count": null,
   "metadata": {},
   "outputs": [],
   "source": []
  }
 ],
 "metadata": {
  "kernelspec": {
   "display_name": "uni",
   "language": "python",
   "name": "python3"
  },
  "language_info": {
   "codemirror_mode": {
    "name": "ipython",
    "version": 3
   },
   "file_extension": ".py",
   "mimetype": "text/x-python",
   "name": "python",
   "nbconvert_exporter": "python",
   "pygments_lexer": "ipython3",
   "version": "3.10.9"
  },
  "orig_nbformat": 4
 },
 "nbformat": 4,
 "nbformat_minor": 2
}
